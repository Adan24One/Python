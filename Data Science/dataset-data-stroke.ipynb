{
 "cells": [
  {
   "cell_type": "code",
   "execution_count": 72,
   "id": "55395f7c",
   "metadata": {
    "scrolled": true
   },
   "outputs": [
    {
     "data": {
      "text/html": [
       "<div>\n",
       "<style scoped>\n",
       "    .dataframe tbody tr th:only-of-type {\n",
       "        vertical-align: middle;\n",
       "    }\n",
       "\n",
       "    .dataframe tbody tr th {\n",
       "        vertical-align: top;\n",
       "    }\n",
       "\n",
       "    .dataframe thead th {\n",
       "        text-align: right;\n",
       "    }\n",
       "</style>\n",
       "<table border=\"1\" class=\"dataframe\">\n",
       "  <thead>\n",
       "    <tr style=\"text-align: right;\">\n",
       "      <th></th>\n",
       "      <th>Umur</th>\n",
       "      <th>Hipertensi</th>\n",
       "      <th>Penyakit Jantung</th>\n",
       "      <th>Pernah Menikah</th>\n",
       "      <th>Tempat Tinggal</th>\n",
       "      <th>Rata-rata Kadar Glukoasa</th>\n",
       "      <th>bmi</th>\n",
       "      <th>Strok</th>\n",
       "      <th>Status Merokok</th>\n",
       "    </tr>\n",
       "  </thead>\n",
       "  <tbody>\n",
       "    <tr>\n",
       "      <th>0</th>\n",
       "      <td>67.0</td>\n",
       "      <td>0</td>\n",
       "      <td>1</td>\n",
       "      <td>1</td>\n",
       "      <td>1</td>\n",
       "      <td>228.69</td>\n",
       "      <td>36.6</td>\n",
       "      <td>1</td>\n",
       "      <td>formerly smoked</td>\n",
       "    </tr>\n",
       "    <tr>\n",
       "      <th>1</th>\n",
       "      <td>61.0</td>\n",
       "      <td>0</td>\n",
       "      <td>0</td>\n",
       "      <td>1</td>\n",
       "      <td>0</td>\n",
       "      <td>202.21</td>\n",
       "      <td>NaN</td>\n",
       "      <td>1</td>\n",
       "      <td>never smoked</td>\n",
       "    </tr>\n",
       "    <tr>\n",
       "      <th>2</th>\n",
       "      <td>80.0</td>\n",
       "      <td>0</td>\n",
       "      <td>1</td>\n",
       "      <td>1</td>\n",
       "      <td>0</td>\n",
       "      <td>105.92</td>\n",
       "      <td>32.5</td>\n",
       "      <td>1</td>\n",
       "      <td>never smoked</td>\n",
       "    </tr>\n",
       "    <tr>\n",
       "      <th>3</th>\n",
       "      <td>49.0</td>\n",
       "      <td>0</td>\n",
       "      <td>0</td>\n",
       "      <td>1</td>\n",
       "      <td>1</td>\n",
       "      <td>171.23</td>\n",
       "      <td>34.4</td>\n",
       "      <td>1</td>\n",
       "      <td>smokes</td>\n",
       "    </tr>\n",
       "    <tr>\n",
       "      <th>4</th>\n",
       "      <td>79.0</td>\n",
       "      <td>1</td>\n",
       "      <td>0</td>\n",
       "      <td>1</td>\n",
       "      <td>0</td>\n",
       "      <td>174.12</td>\n",
       "      <td>24.0</td>\n",
       "      <td>1</td>\n",
       "      <td>never smoked</td>\n",
       "    </tr>\n",
       "  </tbody>\n",
       "</table>\n",
       "</div>"
      ],
      "text/plain": [
       "   Umur  Hipertensi  Penyakit Jantung  Pernah Menikah  Tempat Tinggal  \\\n",
       "0  67.0           0                 1               1               1   \n",
       "1  61.0           0                 0               1               0   \n",
       "2  80.0           0                 1               1               0   \n",
       "3  49.0           0                 0               1               1   \n",
       "4  79.0           1                 0               1               0   \n",
       "\n",
       "   Rata-rata Kadar Glukoasa   bmi  Strok   Status Merokok  \n",
       "0                    228.69  36.6      1  formerly smoked  \n",
       "1                    202.21   NaN      1     never smoked  \n",
       "2                    105.92  32.5      1     never smoked  \n",
       "3                    171.23  34.4      1           smokes  \n",
       "4                    174.12  24.0      1     never smoked  "
      ]
     },
     "execution_count": 72,
     "metadata": {},
     "output_type": "execute_result"
    }
   ],
   "source": [
    "import pandas as pd\n",
    "import numpy as np\n",
    "\n",
    "#mengambil data\n",
    "\n",
    "df = pd.read_csv('data-stroke.csv')\n",
    "df.head()"
   ]
  },
  {
   "cell_type": "code",
   "execution_count": 57,
   "id": "b39e71e3",
   "metadata": {},
   "outputs": [
    {
     "name": "stdout",
     "output_type": "stream",
     "text": [
      "N: 5110, D: 9\n"
     ]
    }
   ],
   "source": [
    "# Melihat dimensi atau ukuran data\n",
    "\n",
    "N, D = df.shape\n",
    "print('N: %d, D: %d' %(N, D))"
   ]
  },
  {
   "cell_type": "code",
   "execution_count": 58,
   "id": "f045696d",
   "metadata": {},
   "outputs": [
    {
     "name": "stdout",
     "output_type": "stream",
     "text": [
      "(4088, 9) (4088, 9)\n"
     ]
    }
   ],
   "source": [
    "from sklearn.model_selection import train_test_split\n",
    "\n",
    "x_train, x_test, y_train, y_test = train_test_split(df, df, test_size=0.2, random_state=0)\n",
    "print(x_train.shape, y_train.shape)"
   ]
  },
  {
   "cell_type": "code",
   "execution_count": 59,
   "id": "d8116b15",
   "metadata": {},
   "outputs": [
    {
     "name": "stdout",
     "output_type": "stream",
     "text": [
      "(1022, 9) (1022, 9)\n"
     ]
    }
   ],
   "source": [
    "print(x_test.shape, y_test.shape)"
   ]
  },
  {
   "cell_type": "code",
   "execution_count": 60,
   "id": "8d07adc0",
   "metadata": {},
   "outputs": [
    {
     "name": "stdout",
     "output_type": "stream",
     "text": [
      "      Umur  Hipertensi  Penyakit Jantung  Pernah Menikah  Tempat Tinggal  \\\n",
      "3029  36.0           0                 0               1               0   \n",
      "2277  34.0           0                 0               1               0   \n",
      "3002  60.0           0                 0               1               0   \n",
      "246   75.0           0                 0               1               0   \n",
      "2825  76.0           0                 0               1               1   \n",
      "...    ...         ...               ...             ...             ...   \n",
      "4931  53.0           1                 0               1               0   \n",
      "3264  61.0           0                 0               1               0   \n",
      "1653  44.0           0                 0               1               0   \n",
      "2607  21.0           0                 0               0               1   \n",
      "2732  58.0           1                 0               1               0   \n",
      "\n",
      "      Rata-rata Kadar Glukoasa   bmi  strok   Status Merokok  \n",
      "3029                     67.29  36.7      0  formerly smoked  \n",
      "2277                     83.53  48.5      0  formerly smoked  \n",
      "3002                     65.16  30.8      0     never smoked  \n",
      "246                      78.80  29.3      1  formerly smoked  \n",
      "2825                     58.65  25.6      0           smokes  \n",
      "...                        ...   ...    ...              ...  \n",
      "4931                     98.61  38.8      0           smokes  \n",
      "3264                     72.01  26.0      0  formerly smoked  \n",
      "1653                     94.71  28.4      0           smokes  \n",
      "2607                    120.94  29.7      0  formerly smoked  \n",
      "2732                     59.52  33.2      0     never smoked  \n",
      "\n",
      "[4088 rows x 9 columns]\n"
     ]
    }
   ],
   "source": [
    "print(x_train)"
   ]
  },
  {
   "cell_type": "code",
   "execution_count": 61,
   "id": "1bc4fbbf",
   "metadata": {},
   "outputs": [
    {
     "name": "stdout",
     "output_type": "stream",
     "text": [
      "[[0.43847656 0.         0.         ... 0.05618133 0.3024055  0.        ]\n",
      " [0.4140625  0.         0.         ... 0.13115132 0.43757159 0.        ]\n",
      " [0.73144531 0.         0.         ... 0.04634844 0.23482245 0.        ]\n",
      " ...\n",
      " [0.53613281 0.         0.         ... 0.18276244 0.20733104 0.        ]\n",
      " [0.25537109 0.         0.         ... 0.30385006 0.22222222 0.        ]\n",
      " [0.70703125 1.         0.         ... 0.02031207 0.26231386 0.        ]]\n",
      "[[1.         0.         1.         ... 0.4222421  0.2960373  1.        ]\n",
      " [0.04692082 0.         0.         ... 0.2401243  0.06993007 0.        ]\n",
      " [0.70674487 0.         0.         ... 0.11643674 0.28438228 0.        ]\n",
      " ...\n",
      " [0.63343109 0.         0.         ... 0.06662272 0.52447552 0.        ]\n",
      " [0.95112414 0.         0.         ... 0.85940958        nan 1.        ]\n",
      " [0.4257087  0.         0.         ... 0.13206836 0.14219114 0.        ]]\n"
     ]
    }
   ],
   "source": [
    "# proses normalisasi supaya data lebih bagus\n",
    "# gunakan normalisasi minimax\n",
    "\n",
    "from sklearn.preprocessing import MinMaxScaler\n",
    "x_train1 = MinMaxScaler().fit_transform(x_train1)\n",
    "x_test1 = MinMaxScaler().fit_transform(x_test1)\n",
    "print(x_train1)\n",
    "print(x_test1)"
   ]
  },
  {
   "cell_type": "code",
   "execution_count": 62,
   "id": "333ed458",
   "metadata": {},
   "outputs": [
    {
     "name": "stdout",
     "output_type": "stream",
     "text": [
      "(4088, 8)\n",
      "[[36.0 0 0 ... 67.29 36.7 0]\n",
      " [34.0 0 0 ... 83.53 48.5 0]\n",
      " [60.0 0 0 ... 65.16 30.8 0]\n",
      " ...\n",
      " [44.0 0 0 ... 94.71 28.4 0]\n",
      " [21.0 0 0 ... 120.94 29.7 0]\n",
      " [58.0 1 0 ... 59.52 33.2 0]]\n"
     ]
    }
   ],
   "source": [
    "# memisahkan data fitur dan data label\n",
    "\n",
    "x_train1 = x_train.values\n",
    "x_train1 = np.delete(x_train1, 8, axis = 1)\n",
    "y_train1 = x_train['Status Merokok'].values\n",
    "print(x_train1.shape)\n",
    "print(x_train1)"
   ]
  },
  {
   "cell_type": "code",
   "execution_count": 63,
   "id": "a356dafa",
   "metadata": {},
   "outputs": [
    {
     "name": "stdout",
     "output_type": "stream",
     "text": [
      "(1022, 8)\n",
      "[[82.0 0 1 ... 144.9 26.4 1]\n",
      " [4.0 0 0 ... 106.22 16.7 0]\n",
      " [58.0 0 0 ... 79.95 25.9 0]\n",
      " ...\n",
      " [52.0 0 0 ... 69.37 36.2 0]\n",
      " [78.0 0 0 ... 237.75 nan 1]\n",
      " [35.0 0 0 ... 83.27 19.8 0]]\n"
     ]
    }
   ],
   "source": [
    "# memisahkan data fitur dan label untuk data tes\n",
    "\n",
    "x_test1 = x_test.values\n",
    "x_test1 = np.delete(x_test1, 8, axis = 1)\n",
    "y_test1 = x_test['Status Merokok'].values\n",
    "print(x_test1.shape)\n",
    "print(x_test1)"
   ]
  },
  {
   "cell_type": "code",
   "execution_count": 64,
   "id": "107f902b",
   "metadata": {},
   "outputs": [
    {
     "name": "stdout",
     "output_type": "stream",
     "text": [
      "(5110, 8)\n"
     ]
    }
   ],
   "source": [
    "x=df.iloc[:,:-1].values\n",
    "y=df.iloc[:,-1].values\n",
    "print(x.shape)"
   ]
  },
  {
   "cell_type": "code",
   "execution_count": 65,
   "id": "fe845f2d",
   "metadata": {},
   "outputs": [
    {
     "data": {
      "text/plain": [
       "0.88"
      ]
     },
     "execution_count": 65,
     "metadata": {},
     "output_type": "execute_result"
    }
   ],
   "source": [
    "# Proses klarifikasi dengan neural network\n",
    "\n",
    "from sklearn.neural_network import MLPClassifier\n",
    "from sklearn.datasets import make_classification\n",
    "from sklearn.model_selection import train_test_split\n",
    "x, y = make_classification(n_samples=100, random_state=1)\n",
    "x_train, x_test, y_train, y_test = train_test_split(x, y, stratify=y,random_state=1)\n",
    "clf = MLPClassifier(random_state=1, max_iter=300).fit(x_train, y_train)\n",
    "# Melakukan Prediksi dan nilai akurasi\n",
    "clf.predict_proba(x_test[:1])\n",
    "clf.predict(x_test[:5, :])\n",
    "clf.score(x_test, y_test)"
   ]
  }
 ],
 "metadata": {
  "kernelspec": {
   "display_name": "Python 3 (ipykernel)",
   "language": "python",
   "name": "python3"
  },
  "language_info": {
   "codemirror_mode": {
    "name": "ipython",
    "version": 3
   },
   "file_extension": ".py",
   "mimetype": "text/x-python",
   "name": "python",
   "nbconvert_exporter": "python",
   "pygments_lexer": "ipython3",
   "version": "3.9.15"
  }
 },
 "nbformat": 4,
 "nbformat_minor": 5
}
